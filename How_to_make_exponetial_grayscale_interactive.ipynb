{
 "cells": [
  {
   "cell_type": "markdown",
   "metadata": {},
   "source": [
    "#### License"
   ]
  },
  {
   "cell_type": "markdown",
   "metadata": {},
   "source": [
    "<a rel=\"license\" href=\"http://creativecommons.org/licenses/by/4.0/\"><img alt=\"Creative Commons License\" style=\"border-width:0\" src=\"https://i.creativecommons.org/l/by/4.0/88x31.png\" /></a><br />This work is licensed under a <a rel=\"license\" href=\"http://creativecommons.org/licenses/by/4.0/\"> CC BY Creative Commons License</a>, with the exception of the data (a seismic section from the [F3 open 3D survey](https://terranubis.com/datainfo/Netherlands-Offshore-F3-Block-Complete) which is covered by a [CC BY-SA Creative Commons License](https://creativecommons.org/licenses/by-sa/3.0/)."
   ]
  },
  {
   "cell_type": "code",
   "execution_count": 1,
   "metadata": {},
   "outputs": [],
   "source": [
    "import os\n",
    "import numpy as np\n",
    "import matplotlib.pyplot as plt\n",
    "import matplotlib.colors as clr\n",
    "import matplotlib.cm as cm\n",
    "import skimage.color as skl\n",
    "from skimage import io\n",
    "from ipywidgets import interact, interactive, FloatSlider"
   ]
  },
  {
   "cell_type": "code",
   "execution_count": 2,
   "metadata": {},
   "outputs": [],
   "source": [
    "from matplotlib import rc\n",
    "font = {'size'   : 16}\n",
    "rc('font', **font)"
   ]
  },
  {
   "cell_type": "code",
   "execution_count": 3,
   "metadata": {},
   "outputs": [],
   "source": [
    "data_folder = \"./data\""
   ]
  },
  {
   "cell_type": "code",
   "execution_count": 4,
   "metadata": {},
   "outputs": [],
   "source": [
    "data=np.load(os.path.join(data_folder,'F3_dip_steered_med_IL230-43_XL475-675_T1660.npy'))"
   ]
  },
  {
   "cell_type": "code",
   "execution_count": 5,
   "metadata": {},
   "outputs": [],
   "source": [
    "def expo(x,a):\n",
    "    \"\"\"\n",
    "    Makes an exponential curve.  \n",
    "    \n",
    "    Parameter:\n",
    "        x (array): the x coordinate\n",
    "        a (int): compressiveness\n",
    "        \n",
    "    Returns:\n",
    "        y (array): the 1D exponential curve\n",
    "    \"\"\"\n",
    "    y = np.array(1-(np.exp(1-(a*x))/2.5))\n",
    "    return 100.0*(y-min(y))/(max(y)-min(y)) \n",
    "\n",
    "def rgb_expo(y):\n",
    "    \"\"\" \n",
    "    Makes an RGB array of size 256x256, which can then be plotted as rectuangular colorbar image\n",
    "    (with a specific plt.imshow aspect ratio)\n",
    "    \n",
    "    Parameters:\n",
    "        y (array): exponential 1D curve. Can be output of expo function. \n",
    "        It is used as Lightness (L) dimension of initial Lab array\n",
    "    \n",
    "    Returns:\n",
    "        rgb_exponential (array): the 256x256 RGB array\n",
    "    \"\"\"\n",
    "    lexp = np.tile(y, (256,1))\n",
    "    aexp = np.zeros((256,256))\n",
    "    bexp = np.zeros((256,256))\n",
    "    lab_exp = np.array(list(zip(lexp, aexp, bexp)))\n",
    "    lab_exponential = np.swapaxes(lab_exp,1,2)\n",
    "    rgb_exponential = skl.lab2rgb(lab_exponential)\n",
    "    return rgb_exponential\n",
    "\n",
    "def rgb_cmap(rgb_exponential):\n",
    "    \"\"\" \n",
    "    Makes a Matplotlib LinearSegmentedColormap RGB exponential grayscale\n",
    "    \n",
    "    Parameters:\n",
    "        rgb_exponential (array): exponential RGB array. Can be output of rgb_expo function   \n",
    "    \n",
    "    Returns:\n",
    "        my_exp_cmap: LinearSegmentedColormap\n",
    "    \"\"\"\n",
    "    r_exp = rgb_exponential[0,:,0]\n",
    "    g_exp = rgb_exponential[0,:,1]\n",
    "    b_exp = rgb_exponential[0,:,2]\n",
    "\n",
    "    # sample 256 not perfectly 1. Normalizing y to [0-1]\n",
    "    normr_exp=(r_exp-min(r_exp))/(max(r_exp)-min(r_exp))\n",
    "    normg_exp=(g_exp-min(g_exp))/(max(g_exp)-min(g_exp))\n",
    "    normb_exp=(b_exp-min(b_exp))/(max(b_exp)-min(b_exp))\n",
    "    \n",
    "    b3=normb_exp # value of blue at sample n\n",
    "    b2=normb_exp # value of blue at sample n\n",
    "    b1=np.linspace(0,1,len(b2)) # position of sample n - ranges from 0 to 1\n",
    "    g3=normg_exp \n",
    "    g2=normg_exp\n",
    "    g1=np.linspace(0,1,len(g2))\n",
    "    r3=normr_exp \n",
    "    r2=normr_exp\n",
    "    r1=np.linspace(0,1,len(r2))\n",
    "    r=zip(r1,r2,r3) # red list\n",
    "    g=zip(g1,g2,g3) # green list\n",
    "    b=zip(b1,b2,b3) # blue list\n",
    "    rgb_=zip(r,g,b) # creating final list\n",
    "    rgb=zip(*rgb_)  # transposing list\n",
    "    k=['red', 'green', 'blue'] # keys\n",
    "    exponential_gray=dict(zip(k,rgb))  # makes a dictionary for LinearSegmentedColormap\n",
    "    my_exp_cmap = clr.LinearSegmentedColormap('my_colormap', exponential_gray)\n",
    "    return my_exp_cmap\n",
    "\n",
    "def find_50_idx(y):\n",
    "    \"\"\"\n",
    "    Find the index of first element in a 1D array of value > 50.\n",
    "    In other words, the sample number corresponding to the 50% Lightness point in the colormap.\n",
    "    \"\"\"\n",
    "    idx = np.searchsorted(y, 50, side=\"right\").astype(int)\n",
    "    return idx"
   ]
  },
  {
   "cell_type": "code",
   "execution_count": 6,
   "metadata": {},
   "outputs": [],
   "source": [
    "def exponential_demo(e): \n",
    "    ### Setting up colormap\n",
    "    x = np.arange(256)\n",
    "    y = expo(x, e)\n",
    "    rgb_exponential = rgb_expo(y)\n",
    "    my_exp_cmap = rgb_cmap(rgb_exponential)\n",
    "\n",
    "    ### Setting up figure\n",
    "    idx = find_50_idx(y)\n",
    "    y_ticks=[0, 20, 40, 50, 60, 80, 100]\n",
    "    x_ticks = [0, 50, 100, 150, 200, 250]\n",
    "    x_ticks.append(idx)\n",
    "    x_ticks=sorted(x_ticks)\n",
    "    \n",
    "    fig = plt.figure(figsize=(14,22))\n",
    "    \n",
    "    # Interactive textbox plot of exponent value\n",
    "    ax3 = plt.subplot2grid((7,1), (0,0), colspan=1, rowspan = 1)\n",
    "    ax3.set_axis_off()\n",
    "    bbox_props = dict(boxstyle=\"square, pad=0.5\", fc=\"white\", ec=\"0.5\")\n",
    "    ax3.text(0.1, 0.1, 'Exponent = {0:.3f}'.format(e), ha=\"center\", \n",
    "                 va=\"center\", size=18, bbox=bbox_props)\n",
    "\n",
    "    ### Interactive exponential Lightness profile display\n",
    "    ax1 = plt.subplot2grid((7,1), (1,0),colspan=1, rowspan = 1)\n",
    "    ax1.scatter(x,y, s = 100, c = my_exp_cmap(x))\n",
    "    ax1.set_yticks([50], minor=True)\n",
    "    ax1.set_yticks([0, 25, 50, 75, 100])\n",
    "    ax1.set_yticklabels([0, 25, 50, 75, 100])\n",
    "    ax1.set_xticks([idx], minor=True)\n",
    "    locx = list(ax1.xaxis.get_ticklocs())\n",
    "    locx.append(idx)\n",
    "    ax1.set_xticks(locx)\n",
    "    ax1.set_xlim(min(x),max(x))\n",
    "    ax1.axhline(50, linestyle='--', color='k') \n",
    "    ax1.axvline(idx, linestyle='--', color='k')\n",
    "    ax1.set_title('Lightness profile for the exponential grayscale cmap')\n",
    "\n",
    "    ### Interactive colormap display\n",
    "    ax2 =  plt.subplot2grid((7,1), (2,0),colspan=1, rowspan = 1)\n",
    "    ax2.imshow(rgb_exponential, interpolation = 'none', aspect='auto')\n",
    "    ax2.plot([idx,idx], [0,255], '--k')\n",
    "    ax2.set_xticks(x_ticks);\n",
    "    ax2.tick_params(axis='y', color='w', labelcolor='white')\n",
    "    ax2.set_title('Grayscale plot for the exponential grayscale cmap')\n",
    "\n",
    "    ### Interactive seismic time slice display\n",
    "    ax3 =  plt.subplot2grid((7,1), (3,0),colspan=1, rowspan = 4)\n",
    "    ax3.imshow(data, cmap = my_exp_cmap, interpolation = 'none', aspect='auto')\n",
    "    ax3.set_xticks([])\n",
    "    ax3.set_yticks([])\n",
    "    ax3.set_title('Seismic time slice with exponential grayscale')\n",
    "\n",
    "    plt.tight_layout();"
   ]
  },
  {
   "cell_type": "code",
   "execution_count": 7,
   "metadata": {
    "scrolled": false
   },
   "outputs": [
    {
     "data": {
      "application/vnd.jupyter.widget-view+json": {
       "model_id": "e43224dd545740cf8a91d092193639c3",
       "version_major": 2,
       "version_minor": 0
      },
      "text/plain": [
       "interactive(children=(FloatSlider(value=0.008, description='e', max=0.02, min=0.002, step=0.002), Output()), _…"
      ]
     },
     "metadata": {},
     "output_type": "display_data"
    }
   ],
   "source": [
    "interact(exponential_demo, e=FloatSlider(min=0.002, max = 0.02, step=0.002, value=0.008));"
   ]
  }
 ],
 "metadata": {
  "kernelspec": {
   "display_name": "sigm2020",
   "language": "python",
   "name": "conda-env-sigm2020-py"
  },
  "language_info": {
   "codemirror_mode": {
    "name": "ipython",
    "version": 3
   },
   "file_extension": ".py",
   "mimetype": "text/x-python",
   "name": "python",
   "nbconvert_exporter": "python",
   "pygments_lexer": "ipython3",
   "version": "3.7.1"
  }
 },
 "nbformat": 4,
 "nbformat_minor": 4
}
