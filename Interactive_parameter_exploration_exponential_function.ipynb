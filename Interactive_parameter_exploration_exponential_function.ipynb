{
 "cells": [
  {
   "cell_type": "markdown",
   "metadata": {},
   "source": [
    "#### Objective"
   ]
  },
  {
   "cell_type": "markdown",
   "metadata": {},
   "source": [
    "Interactive parameter exploration of the exponential function, $1-e^{(1-ax)/b}$, as defined in the paper [Perception of visual information: The role of colour in seismic interpretation](http://earthdoc.eage.org/publication/publicationdetails/?publication=67462), by Froner, B., Purves, Steve, Lowell, J., and Henderson, J. (2013), First Break. 31, DOI 10.3997/1365-2397.2013010"
   ]
  },
  {
   "cell_type": "markdown",
   "metadata": {},
   "source": [
    "#### Preliminaries"
   ]
  },
  {
   "cell_type": "code",
   "execution_count": 1,
   "metadata": {},
   "outputs": [],
   "source": [
    "%matplotlib inline\n",
    "import numpy as np\n",
    "import matplotlib.pyplot as plt\n",
    "from ipywidgets import interact, IntSlider, FloatSlider"
   ]
  },
  {
   "cell_type": "markdown",
   "metadata": {},
   "source": [
    "#### Exponential function definition"
   ]
  },
  {
   "cell_type": "markdown",
   "metadata": {},
   "source": [
    "Let's make the equation a bit more generic by turning that first '1' into a third parameter, c, as below:"
   ]
  },
  {
   "cell_type": "code",
   "execution_count": 2,
   "metadata": {},
   "outputs": [],
   "source": [
    "def expo(a, b, c):\n",
    "    x = np.linspace(-6, 25, 202)\n",
    "    y = np.array(c-(np.exp(1-(a*x))/b))\n",
    "    plt.figure(figsize=(7, 5))\n",
    "    plt.xlim(-6, 12)\n",
    "    plt.ylim(-4, 4)\n",
    "    plt.plot(x, y, 'darkgreen', linewidth = 3)\n",
    "    plt.grid()"
   ]
  },
  {
   "cell_type": "markdown",
   "metadata": {},
   "source": [
    "#### Play time!!!!!"
   ]
  },
  {
   "cell_type": "code",
   "execution_count": 3,
   "metadata": {},
   "outputs": [
    {
     "data": {
      "application/vnd.jupyter.widget-view+json": {
       "model_id": "fdefcd06b00f44f891c9f11c7def2a82",
       "version_major": 2,
       "version_minor": 0
      },
      "text/plain": [
       "interactive(children=(IntSlider(value=1, description='a', max=20, min=1), IntSlider(value=1, description='b', …"
      ]
     },
     "metadata": {},
     "output_type": "display_data"
    }
   ],
   "source": [
    "interact(expo, a= IntSlider(min=1, max=20, value=1), b = IntSlider(min=1, max=100, value=1), \n",
    "         c = IntSlider(min=0, max=3, value=1));"
   ]
  },
  {
   "cell_type": "markdown",
   "metadata": {},
   "source": [
    "With a bit of interactive experimentation, you can convince yourself that for the equation: $c-e^{(1-ax)/b}$ considering only  positive values for parameters `a`, `b`, and `c`:\n",
    "\n",
    "- The value chosen with the `c` parameter is a horizontal asymptote\n",
    "- The value of the `a` parameter anchors the x axis intercept, which is 1 when a = 1, then approaches 0 as `a` grows, in essence determining how quickly y goes to asymptote with x. Let's call this parameter _compressiveness_\n",
    "- The parameter `b` also seems to control the compressiveness of the curve, but in a less predictable way (to me at least). I will keep it fixed at a value of 2.5, which I found through trial and error, after moving into the sample vs Lightness ranges (i.e. [0,100] and [0, 255], respectively) as I will show below."
   ]
  },
  {
   "cell_type": "code",
   "execution_count": 4,
   "metadata": {},
   "outputs": [],
   "source": [
    "def expo(a):\n",
    "    x = np.linspace(0,255,256) # Sample number array\n",
    "    y = np.array(1-(np.exp(1-(a*x))/2.5)) # exponential array\n",
    "    y1 = 100.0*(y-min(y))/(max(y)-min(y)) # Lightness array\n",
    "    plt.figure(figsize=(7, 5))\n",
    "    plt.xlim(0, 256)\n",
    "    plt.ylim(0, 101)\n",
    "    plt.plot(x, y1, 'darkgreen', linewidth = 3)\n",
    "    plt.grid()"
   ]
  },
  {
   "cell_type": "code",
   "execution_count": 5,
   "metadata": {},
   "outputs": [
    {
     "data": {
      "application/vnd.jupyter.widget-view+json": {
       "model_id": "c718a48e1f7b40a68337c6e3299a7e7d",
       "version_major": 2,
       "version_minor": 0
      },
      "text/plain": [
       "interactive(children=(FloatSlider(value=0.001, description='a', max=0.03, min=0.001, step=0.001), Output()), …"
      ]
     },
     "metadata": {},
     "output_type": "display_data"
    }
   ],
   "source": [
    "interact(expo, a = FloatSlider(min=0.001, max = 0.03, step=0.001, value=0.001));"
   ]
  },
  {
   "cell_type": "markdown",
   "metadata": {},
   "source": [
    "Very nice! \n",
    "\n",
    "Having fixed parameters `b` and `c`, constraining parameter `a` to only vary between 0 and 0.03 allows the lightness profile to change from nearly linear to a fairly compressive curve. \n",
    "\n",
    "This is something that can be worked with later, when creating a full interactive tool for the users to build their own colormap."
   ]
  }
 ],
 "metadata": {
  "kernelspec": {
   "display_name": "Python [conda env:faults]",
   "language": "python",
   "name": "conda-env-faults-py"
  },
  "language_info": {
   "codemirror_mode": {
    "name": "ipython",
    "version": 3
   },
   "file_extension": ".py",
   "mimetype": "text/x-python",
   "name": "python",
   "nbconvert_exporter": "python",
   "pygments_lexer": "ipython3",
   "version": "3.7.7"
  }
 },
 "nbformat": 4,
 "nbformat_minor": 4
}
